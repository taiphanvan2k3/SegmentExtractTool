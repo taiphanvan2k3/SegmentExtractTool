{
 "cells": [
  {
   "cell_type": "code",
   "execution_count": 1,
   "metadata": {},
   "outputs": [
    {
     "name": "stdout",
     "output_type": "stream",
     "text": [
      "Collecting opencv-pythonNote: you may need to restart the kernel to use updated packages.\n",
      "\n",
      "  Using cached opencv_python-4.10.0.84-cp37-abi3-win_amd64.whl.metadata (20 kB)\n",
      "Collecting numpy>=1.21.2 (from opencv-python)\n",
      "  Using cached numpy-2.2.1-cp312-cp312-win_amd64.whl.metadata (60 kB)\n",
      "Using cached opencv_python-4.10.0.84-cp37-abi3-win_amd64.whl (38.8 MB)\n",
      "Using cached numpy-2.2.1-cp312-cp312-win_amd64.whl (12.6 MB)\n",
      "Installing collected packages: numpy, opencv-python\n",
      "Successfully installed numpy-2.2.1 opencv-python-4.10.0.84\n"
     ]
    }
   ],
   "source": [
    "%pip install opencv-python"
   ]
  },
  {
   "cell_type": "code",
   "execution_count": 2,
   "metadata": {},
   "outputs": [],
   "source": [
    "import cv2\n",
    "import os\n",
    "import json"
   ]
  },
  {
   "cell_type": "code",
   "execution_count": 4,
   "metadata": {},
   "outputs": [],
   "source": [
    "video_path = \"./assets/sample.mp4\"\n",
    "save_dir = \"extracted_segments\"\n",
    "os.makedirs(save_dir, exist_ok=True)"
   ]
  },
  {
   "cell_type": "code",
   "execution_count": 5,
   "metadata": {},
   "outputs": [],
   "source": [
    "exercise_name = \"bench_press\"\n",
    "os.makedirs(os.path.join(save_dir, exercise_name), exist_ok=True)"
   ]
  },
  {
   "cell_type": "code",
   "execution_count": 6,
   "metadata": {},
   "outputs": [],
   "source": [
    "# Tạo folder tên dạng 20250113_162600\n",
    "import datetime\n",
    "\n",
    "\n",
    "def get_current_time():\n",
    "    return datetime.datetime.now().strftime(\"%Y%m%d_%H%M%S\")"
   ]
  },
  {
   "cell_type": "code",
   "execution_count": null,
   "metadata": {},
   "outputs": [
    {
     "name": "stdout",
     "output_type": "stream",
     "text": [
      "Press any to start playing the video...\n",
      "Start frame: 59\n",
      "End frame: 100\n",
      "Start frame: 113\n",
      "End frame: 187\n",
      "Start frame: 199\n",
      "End frame: 210\n",
      "Start frame: 232\n",
      "End frame: 240\n",
      "Metadata saved to extracted_segments\\bench_press\\20250113_170239\\metadata.json\n"
     ]
    }
   ],
   "source": [
    "# Tạo tên folder sẽ lưu từng segment\n",
    "dest_folder = os.path.join(save_dir, exercise_name, get_current_time())\n",
    "os.makedirs(dest_folder, exist_ok=True)\n",
    "\n",
    "\n",
    "cap = cv2.VideoCapture(video_path)\n",
    "if not cap.isOpened():\n",
    "    print(\"Error: Cannot open video file.\")\n",
    "\n",
    "# Thông tin video\n",
    "fps = int(cap.get(cv2.CAP_PROP_FPS))\n",
    "width = int(cap.get(cv2.CAP_PROP_FRAME_WIDTH))\n",
    "height = int(cap.get(cv2.CAP_PROP_FRAME_HEIGHT))\n",
    "fourcc = cv2.VideoWriter_fourcc(*\"H264\")\n",
    "\n",
    "start_frame = None\n",
    "end_frame = None\n",
    "segment_count = 0\n",
    "current_writer = None\n",
    "\n",
    "# Danh sách metadata để lưu thông tin các segment\n",
    "metadata = []\n",
    "\n",
    "display_width = 400  # Kích thước hiển thị video\n",
    "display_height = int(height * (display_width / width))\n",
    "\n",
    "# Đọc và hiển thị khung hình đầu tiên\n",
    "ret, first_frame = cap.read()\n",
    "if ret:\n",
    "    resized_frame = cv2.resize(first_frame, (display_width, display_height))\n",
    "    cv2.imshow(\"Video\", resized_frame)\n",
    "    print(\"Press any to start playing the video...\")\n",
    "    cv2.waitKey(0)\n",
    "else:\n",
    "    print(\"Error: Cannot read the first frame.\")\n",
    "    cap.release()\n",
    "    cv2.destroyAllWindows()\n",
    "    exit()\n",
    "\n",
    "while True:\n",
    "    ret, frame = cap.read()\n",
    "    if not ret:\n",
    "        break\n",
    "\n",
    "    current_frame = int(cap.get(cv2.CAP_PROP_POS_FRAMES))\n",
    "\n",
    "    # Thay đổi kích thước hiển thị video\n",
    "    resized_frame = cv2.resize(frame, (display_width, display_height))\n",
    "\n",
    "    # Hiển thị video\n",
    "    cv2.imshow(\"Video\", resized_frame)\n",
    "\n",
    "    key = cv2.waitKey(1) & 0xFF\n",
    "\n",
    "    # Nhấn 's' để bắt đầu đoạn video\n",
    "    if key == ord(\"s\"):\n",
    "        # Tạo file writer cho đoạn mới\n",
    "        if current_writer is None:\n",
    "            start_frame = current_frame\n",
    "            print(f\"Start frame: {start_frame}\")\n",
    "\n",
    "            segment_path = os.path.join(dest_folder, f\"segment_{segment_count}.mp4\")\n",
    "            current_writer = cv2.VideoWriter(segment_path, fourcc, fps, (width, height))\n",
    "\n",
    "    # Nhấn 'e' để kết thúc đoạn video\n",
    "    elif key == ord(\"e\") and start_frame is not None:\n",
    "        end_frame = current_frame\n",
    "        print(f\"End frame: {end_frame}\")\n",
    "\n",
    "        # Lưu thông tin segment vào metadata\n",
    "        metadata.append(\n",
    "            {\n",
    "                \"segment_path\": segment_path,\n",
    "                \"video_src_path\": video_path,\n",
    "                \"start_frame\": start_frame,\n",
    "                \"end_frame\": end_frame,\n",
    "                \"start_time_seconds\": round(start_frame / fps, 2),\n",
    "                \"end_time_seconds\": round(end_frame / fps, 2),\n",
    "            }\n",
    "        )\n",
    "\n",
    "        # Kết thúc đoạn và reset writer\n",
    "        segment_count += 1\n",
    "        start_frame = None\n",
    "        current_writer.release()\n",
    "        current_writer = None\n",
    "\n",
    "    # Ghi khung hình vào đoạn video\n",
    "    if current_writer is not None:\n",
    "        current_writer.write(frame)\n",
    "\n",
    "    # Nhấn 'q' để thoát\n",
    "    if key == ord(\"q\"):\n",
    "        break\n",
    "\n",
    "cap.release()\n",
    "if current_writer:\n",
    "    current_writer.release()\n",
    "cv2.destroyAllWindows()\n",
    "\n",
    "# Ghi metadata ra file JSON\n",
    "metadata_path = os.path.join(dest_folder, \"metadata.json\")\n",
    "with open(metadata_path, \"w\") as f:\n",
    "    json.dump(metadata, f, indent=4)\n",
    "\n",
    "print(f\"Metadata saved to {metadata_path}\")"
   ]
  }
 ],
 "metadata": {
  "kernelspec": {
   "display_name": ".venv",
   "language": "python",
   "name": "python3"
  },
  "language_info": {
   "codemirror_mode": {
    "name": "ipython",
    "version": 3
   },
   "file_extension": ".py",
   "mimetype": "text/x-python",
   "name": "python",
   "nbconvert_exporter": "python",
   "pygments_lexer": "ipython3",
   "version": "3.12.8"
  }
 },
 "nbformat": 4,
 "nbformat_minor": 2
}
