{
 "cells": [
  {
   "cell_type": "code",
   "execution_count": null,
   "metadata": {},
   "outputs": [],
   "source": [
    "%pip install opencv-python"
   ]
  },
  {
   "cell_type": "code",
   "execution_count": 1,
   "metadata": {},
   "outputs": [],
   "source": [
    "import cv2\n",
    "import os\n",
    "import json"
   ]
  },
  {
   "cell_type": "code",
   "execution_count": 42,
   "metadata": {},
   "outputs": [],
   "source": [
    "video_path = \"./assets/curved_wrist/truong.mp4\"\n",
    "save_dir = \"extracted_segments\"\n",
    "os.makedirs(save_dir, exist_ok=True)"
   ]
  },
  {
   "cell_type": "code",
   "execution_count": 43,
   "metadata": {},
   "outputs": [],
   "source": [
    "exercise_name = \"bench\"\n",
    "error_name = \"curved_wrist\"\n",
    "os.makedirs(os.path.join(save_dir, exercise_name, error_name), exist_ok=True)\n",
    "\n",
    "# Tạo tên folder sẽ lưu từng segment\n",
    "dest_folder = os.path.join(save_dir, exercise_name, error_name, \"truong\")\n",
    "os.makedirs(dest_folder, exist_ok=True)"
   ]
  },
  {
   "cell_type": "code",
   "execution_count": null,
   "metadata": {},
   "outputs": [],
   "source": [
    "cap = cv2.VideoCapture(video_path)\n",
    "if not cap.isOpened():\n",
    "    print(\"Error: Cannot open video file.\")\n",
    "\n",
    "# Thông tin video\n",
    "fps = int(cap.get(cv2.CAP_PROP_FPS))\n",
    "frame_delay = int(400 / fps)  # Đơn vị: milliseconds\n",
    "\n",
    "print(f\"FPS: {fps}\")\n",
    "\n",
    "width = int(cap.get(cv2.CAP_PROP_FRAME_WIDTH))\n",
    "height = int(cap.get(cv2.CAP_PROP_FRAME_HEIGHT))\n",
    "fourcc = cv2.VideoWriter_fourcc(*\"H264\")\n",
    "\n",
    "start_frame = None\n",
    "end_frame = None\n",
    "segment_count = 0\n",
    "current_writer = None\n",
    "\n",
    "# Danh sách metadata để lưu thông tin các segment\n",
    "metadata = []\n",
    "frames_buffer = []\n",
    "\n",
    "display_width = 400  # Kích thước hiển thị video\n",
    "display_height = int(height * (display_width / width))\n",
    "\n",
    "# Đọc và hiển thị khung hình đầu tiên\n",
    "ret, first_frame = cap.read()\n",
    "if ret:\n",
    "    resized_frame = cv2.resize(first_frame, (display_width, display_height))\n",
    "    cv2.imshow(\"Video\", resized_frame)\n",
    "    print(\"Press any to start playing the video...\")\n",
    "    cv2.waitKey(0)\n",
    "else:\n",
    "    print(\"Error: Cannot read the first frame.\")\n",
    "    cap.release()\n",
    "    cv2.destroyAllWindows()\n",
    "    exit()\n",
    "\n",
    "while True:\n",
    "    ret, frame = cap.read()\n",
    "    if not ret:\n",
    "        break\n",
    "\n",
    "    current_frame = int(cap.get(cv2.CAP_PROP_POS_FRAMES))\n",
    "\n",
    "    # Thay đổi kích thước hiển thị video\n",
    "    resized_frame = cv2.resize(frame, (display_width, display_height))\n",
    "\n",
    "    # Hiển thị video\n",
    "    cv2.imshow(\"Video\", resized_frame)\n",
    "\n",
    "    key = cv2.waitKey(frame_delay) & 0xFF\n",
    "\n",
    "    # Nhấn 's' để bắt đầu collect khung hình\n",
    "    if key == ord(\"s\"):\n",
    "        if not frames_buffer:\n",
    "            print(f\"Frame start: {current_frame}\")\n",
    "\n",
    "    # Lưu khung hình vào bộ đệm nếu đang collect\n",
    "    if len(frames_buffer) > 0 or key == ord(\"s\"):\n",
    "        frames_buffer.append(frame)\n",
    "\n",
    "    # Nhấn 'e' để kết thúc collect và lưu đoạn video\n",
    "    if key == ord(\"e\") and frames_buffer:\n",
    "        print(f\"Frame end: {current_frame}. Please wait while saving the segment...\")\n",
    "        segment_path = os.path.join(dest_folder, f\"segment_{segment_count}.mp4\")\n",
    "        out = cv2.VideoWriter(segment_path, fourcc, fps, (width, height))\n",
    "\n",
    "        for buffered_frame in frames_buffer:\n",
    "            out.write(buffered_frame)\n",
    "\n",
    "        out.release()\n",
    "\n",
    "        # Lưu thông tin metadata\n",
    "        start_frame = current_frame - len(frames_buffer)\n",
    "        end_frame = current_frame\n",
    "        metadata.append(\n",
    "            {\n",
    "                \"segment_path\": segment_path,\n",
    "                \"video_src_path\": video_path,\n",
    "                \"start_frame\": start_frame,\n",
    "                \"end_frame\": end_frame,\n",
    "                \"start_time_seconds\": round(start_frame / fps, 2),\n",
    "                \"end_time_seconds\": round(end_frame / fps, 2),\n",
    "            }\n",
    "        )\n",
    "\n",
    "        # Reset bộ đệm\n",
    "        frames_buffer = []\n",
    "        segment_count += 1\n",
    "\n",
    "        print(\"-----> Paused. Press any key to continue...\")\n",
    "        key = cv2.waitKey(0)\n",
    "\n",
    "    # Nhấn 'q' để thoát\n",
    "    if key == ord(\"q\"):\n",
    "        break\n",
    "\n",
    "cap.release()\n",
    "cv2.destroyAllWindows()\n",
    "\n",
    "# Ghi metadata ra file JSON\n",
    "metadata_path = os.path.join(dest_folder, \"metadata.json\")\n",
    "with open(metadata_path, \"w\") as f:\n",
    "    json.dump(metadata, f, indent=4)\n",
    "\n",
    "print(f\"Metadata saved to {metadata_path}\")"
   ]
  },
  {
   "cell_type": "markdown",
   "metadata": {},
   "source": [
    "### Compress video with ffmpeg\n",
    "\n",
    "Install here: https://ffmpeg.org/download.html#build-windows\n"
   ]
  },
  {
   "cell_type": "code",
   "execution_count": 46,
   "metadata": {},
   "outputs": [],
   "source": [
    "import subprocess\n",
    "\n",
    "def compress_video(input_path, output_path):\n",
    "    # Sử dụng ffmpeg để nén video với H264 codec\n",
    "    command = [\n",
    "        \"ffmpeg\",\n",
    "        \"-i\",\n",
    "        input_path,  # Đường dẫn tới video đầu vào\n",
    "        \"-vcodec\",\n",
    "        \"libx264\",  # Codec H264\n",
    "        \"-crf\",\n",
    "        \"23\",  # Chất lượng video\n",
    "        \"-preset\",\n",
    "        \"fast\",  # Preset nén\n",
    "        \"-y\",  # Ghi đè nếu file đã tồn tại\n",
    "        output_path,\n",
    "    ]\n",
    "    subprocess.run(command, stdout=subprocess.DEVNULL, stderr=subprocess.DEVNULL)"
   ]
  },
  {
   "cell_type": "code",
   "execution_count": null,
   "metadata": {},
   "outputs": [],
   "source": [
    "# Compress tất cả các segment đã lưu trong folder dest_folder\n",
    "# Lấy danh sách các segment\n",
    "segments = [f for f in os.listdir(dest_folder) if f.endswith(\".mp4\")]\n",
    "segments"
   ]
  },
  {
   "cell_type": "code",
   "execution_count": null,
   "metadata": {},
   "outputs": [],
   "source": [
    "import os\n",
    "from concurrent.futures import ThreadPoolExecutor\n",
    "\n",
    "\n",
    "def compress_segment(segment):\n",
    "    segment_path = os.path.join(dest_folder, segment)\n",
    "    compressed_path = os.path.join(dest_folder, f\"compressed_{segment}\")\n",
    "    print(f\"Compressing {segment}...\")\n",
    "\n",
    "    compress_video(segment_path, compressed_path)\n",
    "\n",
    "    print(f\"Compressed video saved to {compressed_path}\")\n",
    "    return compressed_path\n",
    "\n",
    "\n",
    "# Sử dụng ThreadPoolExecutor để chạy nén song song\n",
    "with ThreadPoolExecutor(\n",
    "    max_workers=4\n",
    ") as executor:  # Điều chỉnh số worker theo số CPU hoặc tài nguyên hệ thống\n",
    "    futures = [executor.submit(compress_segment, segment) for segment in segments]\n",
    "\n",
    "    for future in futures:\n",
    "        try:\n",
    "            compressed_video_path = future.result()\n",
    "            print(f\"Done: {compressed_video_path}\")\n",
    "        except Exception as e:\n",
    "            print(f\"Error compressing video: {e}\")"
   ]
  },
  {
   "cell_type": "markdown",
   "metadata": {},
   "source": [
    "Remove uncompressed files (or manually remove)\n"
   ]
  },
  {
   "cell_type": "code",
   "execution_count": null,
   "metadata": {},
   "outputs": [],
   "source": [
    "segments"
   ]
  },
  {
   "cell_type": "code",
   "execution_count": null,
   "metadata": {},
   "outputs": [],
   "source": [
    "# Remove uncompressed segments\n",
    "for segment in segments:\n",
    "    if segment.startswith(\"compressed_\"):\n",
    "        continue\n",
    "    segment_path = os.path.join(dest_folder, segment)\n",
    "    print(f\"Removing {segment}...\")\n",
    "    os.remove(segment_path)"
   ]
  },
  {
   "cell_type": "markdown",
   "metadata": {},
   "source": [
    "Double check the compressed before running the below cell\n"
   ]
  },
  {
   "cell_type": "code",
   "execution_count": 50,
   "metadata": {},
   "outputs": [],
   "source": [
    "# Đổi tên các segment đã nén thành tên gốc\n",
    "for segment in segments:\n",
    "    compressed_path = os.path.join(dest_folder, \"compressed_\" + segment)\n",
    "    original_path = os.path.join(dest_folder, segment)\n",
    "    os.rename(compressed_path, original_path)"
   ]
  }
 ],
 "metadata": {
  "kernelspec": {
   "display_name": ".venv",
   "language": "python",
   "name": "python3"
  },
  "language_info": {
   "codemirror_mode": {
    "name": "ipython",
    "version": 3
   },
   "file_extension": ".py",
   "mimetype": "text/x-python",
   "name": "python",
   "nbconvert_exporter": "python",
   "pygments_lexer": "ipython3",
   "version": "3.12.8"
  }
 },
 "nbformat": 4,
 "nbformat_minor": 2
}
